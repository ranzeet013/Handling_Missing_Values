{
 "cells": [
  {
   "cell_type": "markdown",
   "id": "0a36ebd9",
   "metadata": {},
   "source": [
    "## End Of Distribution Imputation :"
   ]
  },
  {
   "cell_type": "markdown",
   "id": "d7eeb0d2",
   "metadata": {},
   "source": [
    "End of Distribution imputation is a technique used to handle missing data in a dataset. In simple terms, it involves replacing the missing values with values that are considered very unusual or rare in the dataset. These unusual values are typically located at the far end of the distribution of the data, which means they are much higher or much lower than most of the other values.\n",
    "\n",
    "Here's how it works:\n",
    "\n",
    "1. First, you look at the distribution of the data, which is basically a way of showing how the values are spread out. You might use statistics like the mean (average) and standard deviation to understand this distribution.\n",
    "\n",
    "2. You identify values that are really far away from the average, specifically, values that are more than 3 times the standard deviation away from the mean. These are considered extreme or rare values in the dataset.\n",
    "\n",
    "3. When you encounter missing data (empty or null values) in your dataset, instead of leaving them empty, you replace them with these extreme values. By doing this, you are essentially saying that the missing values are as extreme as the most unusual values in your dataset.\n",
    "\n",
    "This method is used when you think that missing data might carry some important information and you don't want to just ignore it. It can help to maintain the overall statistical characteristics of the data, but it's important to be cautious because it might not always be the best approach, especially if the missing data is not truly related to extreme values."
   ]
  },
  {
   "cell_type": "code",
   "execution_count": 1,
   "id": "fe1f1afb",
   "metadata": {},
   "outputs": [],
   "source": [
    "import pandas as pd\n",
    "import numpy as np\n",
    "import seaborn as sns\n",
    "import matplotlib.pyplot as plt\n",
    "\n",
    "%matplotlib inline \n",
    "\n",
    "import warnings\n",
    "warnings.filterwarnings('ignore')"
   ]
  },
  {
   "cell_type": "code",
   "execution_count": 2,
   "id": "7f790933",
   "metadata": {},
   "outputs": [],
   "source": [
    "dataframe = pd.read_csv('Titanic.csv',usecols=['Age','Fare','Survived'])"
   ]
  },
  {
   "cell_type": "code",
   "execution_count": 3,
   "id": "0f31785d",
   "metadata": {},
   "outputs": [
    {
     "data": {
      "text/html": [
       "<div>\n",
       "<style scoped>\n",
       "    .dataframe tbody tr th:only-of-type {\n",
       "        vertical-align: middle;\n",
       "    }\n",
       "\n",
       "    .dataframe tbody tr th {\n",
       "        vertical-align: top;\n",
       "    }\n",
       "\n",
       "    .dataframe thead th {\n",
       "        text-align: right;\n",
       "    }\n",
       "</style>\n",
       "<table border=\"1\" class=\"dataframe\">\n",
       "  <thead>\n",
       "    <tr style=\"text-align: right;\">\n",
       "      <th></th>\n",
       "      <th>Survived</th>\n",
       "      <th>Age</th>\n",
       "      <th>Fare</th>\n",
       "    </tr>\n",
       "  </thead>\n",
       "  <tbody>\n",
       "    <tr>\n",
       "      <th>0</th>\n",
       "      <td>0</td>\n",
       "      <td>22.0</td>\n",
       "      <td>7.2500</td>\n",
       "    </tr>\n",
       "    <tr>\n",
       "      <th>1</th>\n",
       "      <td>1</td>\n",
       "      <td>38.0</td>\n",
       "      <td>71.2833</td>\n",
       "    </tr>\n",
       "    <tr>\n",
       "      <th>2</th>\n",
       "      <td>1</td>\n",
       "      <td>26.0</td>\n",
       "      <td>7.9250</td>\n",
       "    </tr>\n",
       "    <tr>\n",
       "      <th>3</th>\n",
       "      <td>1</td>\n",
       "      <td>35.0</td>\n",
       "      <td>53.1000</td>\n",
       "    </tr>\n",
       "    <tr>\n",
       "      <th>4</th>\n",
       "      <td>0</td>\n",
       "      <td>35.0</td>\n",
       "      <td>8.0500</td>\n",
       "    </tr>\n",
       "  </tbody>\n",
       "</table>\n",
       "</div>"
      ],
      "text/plain": [
       "   Survived   Age     Fare\n",
       "0         0  22.0   7.2500\n",
       "1         1  38.0  71.2833\n",
       "2         1  26.0   7.9250\n",
       "3         1  35.0  53.1000\n",
       "4         0  35.0   8.0500"
      ]
     },
     "execution_count": 3,
     "metadata": {},
     "output_type": "execute_result"
    }
   ],
   "source": [
    "dataframe.head()"
   ]
  },
  {
   "cell_type": "code",
   "execution_count": 5,
   "id": "cb6b3d2d",
   "metadata": {},
   "outputs": [
    {
     "data": {
      "text/html": [
       "<div>\n",
       "<style scoped>\n",
       "    .dataframe tbody tr th:only-of-type {\n",
       "        vertical-align: middle;\n",
       "    }\n",
       "\n",
       "    .dataframe tbody tr th {\n",
       "        vertical-align: top;\n",
       "    }\n",
       "\n",
       "    .dataframe thead th {\n",
       "        text-align: right;\n",
       "    }\n",
       "</style>\n",
       "<table border=\"1\" class=\"dataframe\">\n",
       "  <thead>\n",
       "    <tr style=\"text-align: right;\">\n",
       "      <th></th>\n",
       "      <th>Survived</th>\n",
       "      <th>Age</th>\n",
       "      <th>Fare</th>\n",
       "    </tr>\n",
       "  </thead>\n",
       "  <tbody>\n",
       "    <tr>\n",
       "      <th>886</th>\n",
       "      <td>0</td>\n",
       "      <td>27.0</td>\n",
       "      <td>13.00</td>\n",
       "    </tr>\n",
       "    <tr>\n",
       "      <th>887</th>\n",
       "      <td>1</td>\n",
       "      <td>19.0</td>\n",
       "      <td>30.00</td>\n",
       "    </tr>\n",
       "    <tr>\n",
       "      <th>888</th>\n",
       "      <td>0</td>\n",
       "      <td>NaN</td>\n",
       "      <td>23.45</td>\n",
       "    </tr>\n",
       "    <tr>\n",
       "      <th>889</th>\n",
       "      <td>1</td>\n",
       "      <td>26.0</td>\n",
       "      <td>30.00</td>\n",
       "    </tr>\n",
       "    <tr>\n",
       "      <th>890</th>\n",
       "      <td>0</td>\n",
       "      <td>32.0</td>\n",
       "      <td>7.75</td>\n",
       "    </tr>\n",
       "  </tbody>\n",
       "</table>\n",
       "</div>"
      ],
      "text/plain": [
       "     Survived   Age   Fare\n",
       "886         0  27.0  13.00\n",
       "887         1  19.0  30.00\n",
       "888         0   NaN  23.45\n",
       "889         1  26.0  30.00\n",
       "890         0  32.0   7.75"
      ]
     },
     "execution_count": 5,
     "metadata": {},
     "output_type": "execute_result"
    }
   ],
   "source": [
    "dataframe.tail()"
   ]
  },
  {
   "cell_type": "code",
   "execution_count": 6,
   "id": "396a5bed",
   "metadata": {},
   "outputs": [
    {
     "data": {
      "text/plain": [
       "Survived      0\n",
       "Age         177\n",
       "Fare          0\n",
       "dtype: int64"
      ]
     },
     "execution_count": 6,
     "metadata": {},
     "output_type": "execute_result"
    }
   ],
   "source": [
    "dataframe.isnull().sum()"
   ]
  },
  {
   "cell_type": "markdown",
   "id": "38b67cf3",
   "metadata": {},
   "source": [
    "There is 177 null values are present in dataset"
   ]
  },
  {
   "cell_type": "code",
   "execution_count": 7,
   "id": "99682398",
   "metadata": {},
   "outputs": [
    {
     "data": {
      "text/plain": [
       "29.69911764705882"
      ]
     },
     "execution_count": 7,
     "metadata": {},
     "output_type": "execute_result"
    }
   ],
   "source": [
    "mean = dataframe['Age'].mean()\n",
    "mean"
   ]
  },
  {
   "cell_type": "markdown",
   "id": "66749b1e",
   "metadata": {},
   "source": [
    "mean of Age Feature"
   ]
  },
  {
   "cell_type": "code",
   "execution_count": 8,
   "id": "a02c252c",
   "metadata": {},
   "outputs": [
    {
     "data": {
      "text/plain": [
       "14.526497332334044"
      ]
     },
     "execution_count": 8,
     "metadata": {},
     "output_type": "execute_result"
    }
   ],
   "source": [
    "std = dataframe['Age'].std()\n",
    "std"
   ]
  },
  {
   "cell_type": "markdown",
   "id": "052f332a",
   "metadata": {},
   "source": [
    "stander deviation of Age Feature"
   ]
  },
  {
   "cell_type": "markdown",
   "id": "7aed1b02",
   "metadata": {},
   "source": [
    "To find the extreme or far end values for the Age feature using the mean and standard deviation, you can use the formula you mentioned:\n",
    "\n",
    "Extreme Value = (Mean of Age Feature) + (3 * Standard Deviation of Age Feature)\n",
    "\n",
    "Here's how it works:\n",
    "\n",
    "1. Calculate the Mean of the Age feature, which is the average age of the data points.\n",
    "\n",
    "2. Calculate the Standard Deviation of the Age feature, which measures how spread out the age values are from the mean.\n",
    "\n",
    "3. Multiply the Standard Deviation by 3. This is used to determine how far from the mean you want to consider values as extreme. A factor of 3 is often chosen, but you can adjust it based on your specific needs or the characteristics of your data.\n",
    "\n",
    "4. Add the result from step 3 to the Mean. This gives you a threshold value, and any Age value greater than this threshold is considered an extreme value or far end value.\n"
   ]
  },
  {
   "cell_type": "code",
   "execution_count": 9,
   "id": "66831391",
   "metadata": {},
   "outputs": [
    {
     "data": {
      "text/plain": [
       "73.27860964406095"
      ]
     },
     "execution_count": 9,
     "metadata": {},
     "output_type": "execute_result"
    }
   ],
   "source": [
    "extreme = (mean + (3*std))\n",
    "extreme"
   ]
  },
  {
   "cell_type": "code",
   "execution_count": 10,
   "id": "60f2a66a",
   "metadata": {},
   "outputs": [
    {
     "data": {
      "text/plain": [
       "<matplotlib.legend.Legend at 0x28c82a14cd0>"
      ]
     },
     "execution_count": 10,
     "metadata": {},
     "output_type": "execute_result"
    },
    {
     "data": {
      "image/png": "[encoded data removed]",
      "text/plain": [
       "<Figure size 576x288 with 1 Axes>"
      ]
     },
     "metadata": {
      "needs_background": "light"
     },
     "output_type": "display_data"
    }
   ],
   "source": [
    "plt.figure(figsize = (8,4))\n",
    "dataframe.Age.plot(kind = 'kde' ,\n",
    "                   color = 'b')\n",
    "plt.legend()"
   ]
  },
  {
   "cell_type": "code",
   "execution_count": 11,
   "id": "64a04523",
   "metadata": {},
   "outputs": [
    {
     "data": {
      "text/plain": [
       "<seaborn.axisgrid.FacetGrid at 0x28cf0e2ca60>"
      ]
     },
     "execution_count": 11,
     "metadata": {},
     "output_type": "execute_result"
    },
    {
     "data": {
      "image/png": "[encoded data removed]",
      "text/plain": [
       "<Figure size 360x360 with 1 Axes>"
      ]
     },
     "metadata": {
      "needs_background": "light"
     },
     "output_type": "display_data"
    }
   ],
   "source": [
    "sns.displot(dataframe['Age'], color='r')"
   ]
  },
  {
   "cell_type": "code",
   "execution_count": 12,
   "id": "95bd709c",
   "metadata": {},
   "outputs": [
    {
     "data": {
      "text/plain": [
       "<AxesSubplot:>"
      ]
     },
     "execution_count": 12,
     "metadata": {},
     "output_type": "execute_result"
    },
    {
     "data": {
      "image/png": "[encoded data removed]",
      "text/plain": [
       "<Figure size 432x288 with 1 Axes>"
      ]
     },
     "metadata": {
      "needs_background": "light"
     },
     "output_type": "display_data"
    }
   ],
   "source": [
    "sns.boxplot(dataframe['Age'],color='y')"
   ]
  },
  {
   "cell_type": "markdown",
   "id": "4c383e9a",
   "metadata": {},
   "source": [
    "from both plots we can see that extrame values are between ~ 70 to 80 in other word it is a outliers"
   ]
  },
  {
   "cell_type": "code",
   "execution_count": 13,
   "id": "0982f478",
   "metadata": {},
   "outputs": [],
   "source": [
    "def End_distribution(df,variable,extreme):\n",
    "    df[variable+'_median'] = df[variable].fillna(df[variable].median())\n",
    "    df[variable+'_end_distribution'] = df[variable].fillna(extreme)"
   ]
  },
  {
   "cell_type": "code",
   "execution_count": 15,
   "id": "de158269",
   "metadata": {},
   "outputs": [],
   "source": [
    "End_distribution(dataframe,'Age',extreme)"
   ]
  },
  {
   "cell_type": "code",
   "execution_count": 16,
   "id": "4eb5e3e5",
   "metadata": {},
   "outputs": [
    {
     "data": {
      "text/html": [
       "<div>\n",
       "<style scoped>\n",
       "    .dataframe tbody tr th:only-of-type {\n",
       "        vertical-align: middle;\n",
       "    }\n",
       "\n",
       "    .dataframe tbody tr th {\n",
       "        vertical-align: top;\n",
       "    }\n",
       "\n",
       "    .dataframe thead th {\n",
       "        text-align: right;\n",
       "    }\n",
       "</style>\n",
       "<table border=\"1\" class=\"dataframe\">\n",
       "  <thead>\n",
       "    <tr style=\"text-align: right;\">\n",
       "      <th></th>\n",
       "      <th>Survived</th>\n",
       "      <th>Age</th>\n",
       "      <th>Fare</th>\n",
       "      <th>Age_median</th>\n",
       "      <th>Age_end_distribution</th>\n",
       "    </tr>\n",
       "  </thead>\n",
       "  <tbody>\n",
       "    <tr>\n",
       "      <th>0</th>\n",
       "      <td>0</td>\n",
       "      <td>22.0</td>\n",
       "      <td>7.2500</td>\n",
       "      <td>22.0</td>\n",
       "      <td>22.0</td>\n",
       "    </tr>\n",
       "    <tr>\n",
       "      <th>1</th>\n",
       "      <td>1</td>\n",
       "      <td>38.0</td>\n",
       "      <td>71.2833</td>\n",
       "      <td>38.0</td>\n",
       "      <td>38.0</td>\n",
       "    </tr>\n",
       "    <tr>\n",
       "      <th>2</th>\n",
       "      <td>1</td>\n",
       "      <td>26.0</td>\n",
       "      <td>7.9250</td>\n",
       "      <td>26.0</td>\n",
       "      <td>26.0</td>\n",
       "    </tr>\n",
       "    <tr>\n",
       "      <th>3</th>\n",
       "      <td>1</td>\n",
       "      <td>35.0</td>\n",
       "      <td>53.1000</td>\n",
       "      <td>35.0</td>\n",
       "      <td>35.0</td>\n",
       "    </tr>\n",
       "    <tr>\n",
       "      <th>4</th>\n",
       "      <td>0</td>\n",
       "      <td>35.0</td>\n",
       "      <td>8.0500</td>\n",
       "      <td>35.0</td>\n",
       "      <td>35.0</td>\n",
       "    </tr>\n",
       "  </tbody>\n",
       "</table>\n",
       "</div>"
      ],
      "text/plain": [
       "   Survived   Age     Fare  Age_median  Age_end_distribution\n",
       "0         0  22.0   7.2500        22.0                  22.0\n",
       "1         1  38.0  71.2833        38.0                  38.0\n",
       "2         1  26.0   7.9250        26.0                  26.0\n",
       "3         1  35.0  53.1000        35.0                  35.0\n",
       "4         0  35.0   8.0500        35.0                  35.0"
      ]
     },
     "execution_count": 16,
     "metadata": {},
     "output_type": "execute_result"
    }
   ],
   "source": [
    "dataframe.head()"
   ]
  },
  {
   "cell_type": "code",
   "execution_count": 17,
   "id": "31339647",
   "metadata": {},
   "outputs": [
    {
     "data": {
      "text/plain": [
       "<matplotlib.legend.Legend at 0x28c87502ef0>"
      ]
     },
     "execution_count": 17,
     "metadata": {},
     "output_type": "execute_result"
    },
    {
     "data": {
      "image/png": "[encoded data removed]",
      "text/plain": [
       "<Figure size 720x432 with 1 Axes>"
      ]
     },
     "metadata": {
      "needs_background": "light"
     },
     "output_type": "display_data"
    }
   ],
   "source": [
    "plt.figure(figsize = (10,6))\n",
    "dataframe.Age_end_distribution.plot(kind = 'kde',\n",
    "                                    color = 'b')\n",
    "dataframe.Age_median.plot(kind= 'kde', color = 'y')\n",
    "plt.legend()"
   ]
  },
  {
   "cell_type": "code",
   "execution_count": 18,
   "id": "c6d37ce9",
   "metadata": {},
   "outputs": [
    {
     "data": {
      "text/plain": [
       "<AxesSubplot:>"
      ]
     },
     "execution_count": 18,
     "metadata": {},
     "output_type": "execute_result"
    },
    {
     "data": {
      "image/png": "[encoded data removed]",
      "text/plain": [
       "<Figure size 432x288 with 1 Axes>"
      ]
     },
     "metadata": {
      "needs_background": "light"
     },
     "output_type": "display_data"
    }
   ],
   "source": [
    "sns.boxplot(dataframe['Age_end_distribution'])"
   ]
  },
  {
   "cell_type": "markdown",
   "id": "fa30c2ac",
   "metadata": {},
   "source": [
    "In short, when you replace missing values with the median, it can distort the data if you have outliers. Using the End of Distribution method for imputation, by replacing missing values with extreme values, can help overcome this distortion and better handle outliers in your dataset."
   ]
  },
  {
   "cell_type": "code",
   "execution_count": null,
   "id": "edf7a43a",
   "metadata": {},
   "outputs": [],
   "source": []
  }
 ],
 "metadata": {
  "kernelspec": {
   "display_name": "Python 3 (ipykernel)",
   "language": "python",
   "name": "python3"
  },
  "language_info": {
   "codemirror_mode": {
    "name": "ipython",
    "version": 3
   },
   "file_extension": ".py",
   "mimetype": "text/x-python",
   "name": "python",
   "nbconvert_exporter": "python",
   "pygments_lexer": "ipython3",
   "version": "3.10.9"
  }
 },
 "nbformat": 4,
 "nbformat_minor": 5
}
